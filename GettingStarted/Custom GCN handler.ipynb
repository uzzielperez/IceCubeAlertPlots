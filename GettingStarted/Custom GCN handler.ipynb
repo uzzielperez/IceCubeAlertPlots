{
 "cells": [
  {
   "cell_type": "code",
   "execution_count": 1,
   "metadata": {
    "collapsed": true
   },
   "outputs": [],
   "source": [
    "#!/usr/bin/env python\n",
    "import gcn"
   ]
  },
  {
   "cell_type": "code",
   "execution_count": 4,
   "metadata": {
    "collapsed": true
   },
   "outputs": [],
   "source": [
    "# Define your custom handler here.\n",
    "def handler(payload, root):\n",
    "    # Get the IVORN, or unique VOEvent ID, and print it.\n",
    "    print(root.attrib['ivorn'])\n",
    "\n",
    "    # Print all of the event attributes.\n",
    "    for param in root.findall('./What/Param'):\n",
    "        name = param.attrib['name']\n",
    "        value = param.attrib['value']\n",
    "        print('{} = {}'.format(name, value))"
   ]
  },
  {
   "cell_type": "code",
   "execution_count": null,
   "metadata": {},
   "outputs": [
    {
     "name": "stdout",
     "output_type": "stream",
     "text": [
      "ivo://nasa.gsfc.gcn/SWIFT#Point_Dir_2018-03-22T06:47:00.00_16865166-109\n",
      "Packet_Type = 83\n",
      "Pkt_Ser_Num = 2472\n",
      "TrigID = 87950\n",
      "Segment_Num = 1\n",
      "Slew_TJD = 18199\n",
      "Slew_SOD = 24420.00\n",
      "Slew_RA = 48.5320\n",
      "Slew_Dec = 57.4363\n",
      "Slew_Roll = 237.4455\n",
      "BAT_Mode = 0x0\n",
      "XRT_Mode = 0x7\n",
      "UVOT_Mode = 0x15a\n",
      "SC_Long = 167.90\n",
      "SC_Lat = 20.30\n",
      "Misc_flags = 0x40000000\n",
      "Coords_Type = 2\n",
      "Coords_String = pointing_direction\n"
     ]
    }
   ],
   "source": [
    "# Listen for VOEvents until killed with Control-C.\n",
    "gcn.listen(handler=handler)"
   ]
  },
  {
   "cell_type": "code",
   "execution_count": null,
   "metadata": {
    "collapsed": true
   },
   "outputs": [],
   "source": []
  }
 ],
 "metadata": {
  "kernelspec": {
   "display_name": "Python 3",
   "language": "python",
   "name": "python3"
  },
  "language_info": {
   "codemirror_mode": {
    "name": "ipython",
    "version": 3
   },
   "file_extension": ".py",
   "mimetype": "text/x-python",
   "name": "python",
   "nbconvert_exporter": "python",
   "pygments_lexer": "ipython3",
   "version": "3.6.0"
  }
 },
 "nbformat": 4,
 "nbformat_minor": 2
}
