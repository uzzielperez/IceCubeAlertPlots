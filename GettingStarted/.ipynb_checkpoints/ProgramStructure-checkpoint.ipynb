{
 "cells": [
  {
   "cell_type": "code",
   "execution_count": 1,
   "metadata": {
    "collapsed": true
   },
   "outputs": [],
   "source": [
    "# Python standard library imports\n",
    "import tempfile\n",
    "import shutil\n",
    "import sys\n",
    "import glob\n",
    "\n",
    "# Third-party imports\n",
    "import gcn\n",
    "import gcn.handlers\n",
    "import gcn.notice_types\n",
    "import requests\n",
    "import healpy as hp\n",
    "import numpy as np"
   ]
  },
  {
   "cell_type": "code",
   "execution_count": 3,
   "metadata": {
    "collapsed": true
   },
   "outputs": [],
   "source": [
    "%matplotlib inline"
   ]
  },
  {
   "cell_type": "code",
   "execution_count": null,
   "metadata": {
    "collapsed": true
   },
   "outputs": [],
   "source": [
    "def get_skymap():\n",
    "    \"\"\"\n",
    "    Get catalogs of gamma-ray sources. Return skymap\n",
    "    \"\"\"\n",
    "    return skymap"
   ]
  },
  {
   "cell_type": "code",
   "execution_count": 4,
   "metadata": {
    "collapsed": true
   },
   "outputs": [],
   "source": [
    "def neutrino_pos():\n",
    "    \"\"\"\n",
    "    Access real-time Neutrino position and map them. \n",
    "    \"\"\"\n",
    "    return neutrinoMap"
   ]
  },
  {
   "cell_type": "code",
   "execution_count": 5,
   "metadata": {
    "collapsed": true
   },
   "outputs": [],
   "source": [
    "# Function to call every time a GCN is received.\n",
    "# Run only for notices of type LVC_INITIAL or LVC_UPDATE.\n",
    "@gcn.handlers.include_notice_types(\n",
    "    gcn.notice_types.LVC_INITIAL,\n",
    "    gcn.notice_types.LVC_UPDATE)\n",
    "def plotMAP():\n",
    "    \"\"\"\n",
    "    Call this when ALERT is received. Plot skymap with neutrino source positions.\n",
    "    \"\"\"\n",
    "    print('ALERT received')\n",
    "    \n",
    "    return alertmap"
   ]
  },
  {
   "cell_type": "code",
   "execution_count": null,
   "metadata": {
    "collapsed": true
   },
   "outputs": [],
   "source": [
    "# Listen for GCNs until the program is interrupted\n",
    "# (killed or interrupted with control-C).\n",
    "#gcn.listen(port=8096, handler=process_gcn)"
   ]
  }
 ],
 "metadata": {
  "kernelspec": {
   "display_name": "Python 3",
   "language": "python",
   "name": "python3"
  },
  "language_info": {
   "codemirror_mode": {
    "name": "ipython",
    "version": 3
   },
   "file_extension": ".py",
   "mimetype": "text/x-python",
   "name": "python",
   "nbconvert_exporter": "python",
   "pygments_lexer": "ipython3",
   "version": "3.6.0"
  }
 },
 "nbformat": 4,
 "nbformat_minor": 2
}
