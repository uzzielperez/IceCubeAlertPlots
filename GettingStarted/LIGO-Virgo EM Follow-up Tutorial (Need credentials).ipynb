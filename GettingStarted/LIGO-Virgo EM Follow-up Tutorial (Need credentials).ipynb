{
 "cells": [
  {
   "cell_type": "code",
   "execution_count": 9,
   "metadata": {
    "collapsed": true
   },
   "outputs": [],
   "source": [
    "# Python standard library imports\n",
    "import tempfile\n",
    "import shutil\n",
    "import sys\n",
    "import glob\n",
    "\n",
    "# Third-party imports\n",
    "import gcn\n",
    "import gcn.handlers\n",
    "import gcn.notice_types\n",
    "import requests\n",
    "import healpy as hp\n",
    "import numpy as np"
   ]
  },
  {
   "cell_type": "markdown",
   "metadata": {},
   "source": [
    "From \n",
    "https://dcc.ligo.org/public/0118/G1500442/010/ligo-virgo-emfollowup-tutorial.html"
   ]
  },
  {
   "cell_type": "code",
   "execution_count": 2,
   "metadata": {
    "collapsed": true
   },
   "outputs": [],
   "source": [
    "%matplotlib inline"
   ]
  },
  {
   "cell_type": "code",
   "execution_count": 4,
   "metadata": {
    "collapsed": true
   },
   "outputs": [],
   "source": [
    "def get_skymap(root):\n",
    "    \"\"\"\n",
    "    Look up URL of sky map in VOEvent XML document,\n",
    "    download sky map, and parse FITS file.\n",
    "    \"\"\"\n",
    "    # Read out URL of sky map.\n",
    "    # This will be something like\n",
    "    # https://gracedb.ligo.org/apibasic/events/M131141/files/bayestar.fits.gz\n",
    "    skymap_url = root.find(\n",
    "        \"./What/Param[@name='SKYMAP_URL_FITS_BASIC']\").attrib['value']\n",
    "\n",
    "    # Send HTTP request for sky map\n",
    "    response = requests.get(skymap_url, stream=True)\n",
    "\n",
    "    # Uncomment to save VOEvent payload to file\n",
    "    # open('example.xml', 'w').write(payload)\n",
    "\n",
    "    # Raise an exception unless the download succeeded (HTTP 200 OK)\n",
    "    response.raise_for_status()\n",
    "\n",
    "    # Create a temporary file to store the downloaded FITS file\n",
    "    with tempfile.NamedTemporaryFile() as tmpfile:\n",
    "        # Save the FITS file to the temporary file\n",
    "        shutil.copyfileobj(response.raw, tmpfile)\n",
    "        tmpfile.flush()\n",
    "\n",
    "        # Uncomment to save FITS payload to file\n",
    "        # shutil.copyfileobj(reponse.raw, open('example.fits.gz', 'wb'))\n",
    "\n",
    "        # Read HEALPix data from the temporary file\n",
    "        skymap, header = hp.read_map(tmpfile.name, h=True, verbose=False)\n",
    "        header = dict(header)\n",
    "\n",
    "    # Done!\n",
    "    return skymap, header\n",
    "\n",
    "# Function to call every time a GCN is received.\n",
    "# Run only for notices of type LVC_INITIAL or LVC_UPDATE.\n",
    "@gcn.handlers.include_notice_types(\n",
    "    gcn.notice_types.LVC_INITIAL,\n",
    "    gcn.notice_types.LVC_UPDATE)\n",
    "\n",
    "def process_gcn(payload, root):\n",
    "    # Print the alert\n",
    "    print('Got VOEvent:')\n",
    "    print(payload)\n",
    "\n",
    "    # Respond only to 'test' events.\n",
    "    # VERY IMPORTANT! Replce with the following line of code\n",
    "    # to respond to only real 'observation' events.\n",
    "    # if root.attrib['role'] != 'observation': return\n",
    "    if root.attrib['role'] != 'test': return\n",
    "\n",
    "    # Respond only to 'CBC' events. Change 'CBC' to \"Burst' to respond to only\n",
    "    # unmodeled burst events.\n",
    "    if root.find(\"./What/Param[@name='Group']\").attrib['value'] != 'CBC': return\n",
    "\n",
    "    # Read out integer notice type (note: not doing anythin with this right now)\n",
    "    notice_type = int(root.find(\"./What/Param[@name='Packet_Type']\").attrib['value'])\n",
    "\n",
    "    # Read sky map\n",
    "    skymap, header = get_skymap(root)"
   ]
  },
  {
   "cell_type": "code",
   "execution_count": 6,
   "metadata": {
    "collapsed": true
   },
   "outputs": [],
   "source": [
    "# Listen for GCNs until the program is interrupted\n",
    "# (killed or interrupted with control-C).\n",
    "#gcn.listen(port=8096, handler=process_gcn)"
   ]
  },
  {
   "cell_type": "markdown",
   "metadata": {},
   "source": [
    "# Probability Sky Maps\n",
    "\"Let's take a look at what is inside one of the LIGO/Virgo probability sky maps. They are FITS image files and can be manipulated and viewed with many commonplace FITS tools. However, they are a little unusual in two regards. First, since they are all-sky images, they are stored in the HEALPix projection, a format that is used for Planck all-sky CMB maps and by Aladin for archival all-sky survey images. Second, the value stored at each pixel is the probability that the gravitational-wave source is within that pixel.\"\n",
    " \n",
    "Do \n",
    "```bash\n",
    "\n",
    "wget --auth-no-challenge https://gracedb.ligo.org/apibasic/events/T125706/files/bayestar.fits.gz\n",
    "\n",
    "```\n",
    "or \n",
    "\n",
    "```bash\n",
    "\n",
    "curl --netrc -O https://gracedb.ligo.org/apibasic/events/T125706/files/bayestar.fits.gz\n",
    "\n",
    "```\n",
    "\n",
    "But you need authentication."
   ]
  },
  {
   "cell_type": "code",
   "execution_count": 7,
   "metadata": {},
   "outputs": [
    {
     "name": "stdout",
     "output_type": "stream",
     "text": [
      "  % Total    % Received % Xferd  Average Speed   Time    Time     Time  Current\n",
      "                                 Dload  Upload   Total   Spent    Left  Speed\n",
      "100    58  100    58    0     0    107      0 --:--:-- --:--:-- --:--:--   112\n"
     ]
    }
   ],
   "source": [
    "#!curl --netrc -O https://gracedb.ligo.org/apibasic/events/T125706/files/bayestar.fits.gz"
   ]
  },
  {
   "cell_type": "code",
   "execution_count": 8,
   "metadata": {},
   "outputs": [
    {
     "name": "stdout",
     "output_type": "stream",
     "text": [
      "--2018-03-22 01:21:10--  https://gracedb.ligo.org/apibasic/events/T125706/files/bayestar.fits.gz\n",
      "Resolving gracedb.ligo.org (gracedb.ligo.org)... 129.89.61.68\n",
      "Connecting to gracedb.ligo.org (gracedb.ligo.org)|129.89.61.68|:443... connected.\n",
      "HTTP request sent, awaiting response... 401 Unauthorized\n",
      "\n",
      "Username/Password Authentication Failed.\n"
     ]
    }
   ],
   "source": [
    "!wget --auth-no-challenge https://gracedb.ligo.org/apibasic/events/T125706/files/bayestar.fits.gz\n"
   ]
  },
  {
   "cell_type": "code",
   "execution_count": null,
   "metadata": {
    "collapsed": true
   },
   "outputs": [],
   "source": []
  }
 ],
 "metadata": {
  "kernelspec": {
   "display_name": "Python 3",
   "language": "python",
   "name": "python3"
  },
  "language_info": {
   "codemirror_mode": {
    "name": "ipython",
    "version": 3
   },
   "file_extension": ".py",
   "mimetype": "text/x-python",
   "name": "python",
   "nbconvert_exporter": "python",
   "pygments_lexer": "ipython3",
   "version": "3.6.0"
  }
 },
 "nbformat": 4,
 "nbformat_minor": 2
}
